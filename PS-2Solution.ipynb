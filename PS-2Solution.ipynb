import numpy as np
from qiskit import QuantumCircuit, transpile, QuantumRegister, ClassicalRegister
from qiskit_aer import Aer
from qiskit.visualization import plot_histogram
import matplotlib.pyplot as plt

# CONSTANT Case Simulation (f(x) = 1)

q1 = QuantumRegister(4,'q')
c1 = ClassicalRegister(4,'c')
qc1 = QuantumCircuit(q1, c1)

# Step 1: Initialize hadmard transform

qc1.x(q1[3])
qc1.h(q1)
qc1.barrier(label = "preparation" )

# For constant fuction with constant value == 1
# Step 2: Apply the Black-Box Oracle (The single query to the crystalline box)

qc1.barrier(label = "oracle starts")
qc1.x(q1[3])
qc1.barrier(label = "oracle ends")

# Step 3: Apply Hadamard gates to the input register again

qc1.h(q1[0])
qc1.h(q1[1])
qc1.h(q1[2])

qc1.barrier(label = "Measurement")

# Step 4: Measure the input register (q0, q1, q2)

qc1.measure(q1[0],c1[0])
qc1.measure(q1[1],c1[1])
qc1.measure(q1[2],c1[2])

print("----------------------------------------------------------------------")
print("SCENARIO 1: Beacon Theory (Constant Function)")
print("----------------------------------------------------------------------")
print("Executing Quantum Query (1 time)...")

print("The Beacon Theory is correct")

# Simulation and Analysis 

simulator = Aer.get_backend('qasm_simulator')
compiled_circuit = transpile(qc1, simulator)

job = simulator.run(compiled_circuit, shots=1711)
result = job.result()
counts = result.get_counts(qc1)
Measurement_counts = print(counts)
print("\n--- Visualization of Constant Circuit ---")
print(qc1.draw(output='text', fold=-1))

# BALANCED Case Simulation (f(x) = x0 XOR x1 XOR x2)

# Step 1: Initialize hadmard transform

q2 = QuantumRegister(4,'q')
c2 = ClassicalRegister(4,'c')
qc2 = QuantumCircuit(q2, c2)

qc2.x(q2[3])
qc2.h(q2)
qc2.barrier(label = "preparation" )

# For balanced function

# Step 2: Apply the Black-Box Oracle (The single query to the crystalline box)

qc2.barrier(label = "oracle starts")
qc2.cx(q2[0],q2[3])
qc2.cx(q2[1],q2[3])
qc2.cx(q2[2],q2[3])
qc2.barrier(label = "oracle ends")

# Step 3: Apply Hadamard gates to the input register again

qc2.h(q2[0])
qc2.h(q2[1])
qc2.h(q2[2])

qc2.barrier(label = "Measurement")

# Step 4: Measure the input register (q0, q1, q2)


qc2.measure(q2[0],c2[0])
qc2.measure(q2[1],c2[1])
qc2.measure(q2[2],c2[2])

print("\n----------------------------------------------------------------------")
print("SCENARIO 2: Library Theory (Balanced Function)")
print("----------------------------------------------------------------------")
print("Executing Quantum Query (1 time)...")

print("The Library Theory is correct")

# Simulation and Analysis 

simulator = Aer.get_backend('qasm_simulator')
compiled_circuit = transpile(qc2, simulator)

job = simulator.run(compiled_circuit, shots=1711)
result = job.result()
counts = result.get_counts(qc2)
Measurement_counts = print(counts)
print("\n--- Visualization of Balanced Circuit ---")
print(qc2.draw(output='text', fold=-1))

